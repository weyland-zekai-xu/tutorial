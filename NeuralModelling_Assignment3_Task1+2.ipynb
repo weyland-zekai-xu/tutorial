{
  "cells": [
    {
      "cell_type": "markdown",
      "metadata": {
        "id": "view-in-github",
        "colab_type": "text"
      },
      "source": [
        "<a href=\"https://colab.research.google.com/github/weyland-zekai-xu/tutorial/blob/main/NeuralModelling_Assignment3_Task1%2B2.ipynb\" target=\"_parent\"><img src=\"https://colab.research.google.com/assets/colab-badge.svg\" alt=\"Open In Colab\"/></a>"
      ]
    },
    {
      "cell_type": "markdown",
      "metadata": {
        "id": "hOfaSRfTfNZJ"
      },
      "source": [
        "## Dyna planning"
      ]
    },
    {
      "cell_type": "markdown",
      "metadata": {
        "id": "EFO_5plwfNZL"
      },
      "source": [
        "#### Background"
      ]
    },
    {
      "cell_type": "markdown",
      "metadata": {
        "id": "cq0IaBAHfNZL"
      },
      "source": [
        "The aim of this part of the assignment is to introduce you to the concept of Dyna (Sutton, 1990). By now you will have heard about model-free (MF) and model-based (MB) approaches to control. MF algorithms learn and store estimates of the state-action value function. This means that control simply involves retrieving those cached value estimates and choosing among the available actions by comparing their worth. MB control, on the other hand, involves the use of a model to calculate those values. In the RL literature this is typically known as planning. Planning has the advantage of affording behavioural flexibility, since once a change in the world is discovered the model can be updated and the values re-calculated in a way that reflects the global knowledge of the environment. By contrast, MF algorithms need many experiences to propagate the information about the change to other states."
      ]
    },
    {
      "cell_type": "markdown",
      "metadata": {
        "id": "uc6yz5uvfNZL"
      },
      "source": [
        "Dyna (Sutton, 1990) is an integrated architecture which combines the merits of MF and MB approaches. Whilst interacting with the environment (i.e., being online), Dyna learns MF state-action values as well as a model of its environment (in the most general sense this involves both the transition and reward models). Whilst not interacting with the environment (i.e., being offline -- this can be in between consecutive moves or episodes, or during the equivalent of sleep in animals), Dyna uses its learnt model to additinally train the MF values. That is, the model now acts as a simulator of the environment and provides additional experiences for learning. This means that at decision time Dyna is fast to react, since it acts according to an MF policy by simply retrieving the relevant values; however, those values have been trained by a model and therefore contain some portion of the global knowledge of the environment collected so far."
      ]
    },
    {
      "cell_type": "markdown",
      "metadata": {
        "id": "CV-q2MhKfNZM"
      },
      "source": [
        "One particularly critical aspect of learning is exploration, and in fact Dyna's original motivation was to improve the efficiency of exploration. You are invited to read the original paper by Sutton (1990) to familiarise yourself with the idea and the sort of problems it attempts to solve. The pdf of the paper can be found in the `papers` folder of this repository."
      ]
    },
    {
      "cell_type": "markdown",
      "metadata": {
        "id": "olgOPWJdfNZM"
      },
      "source": [
        "#### Task 1 [10 marks]"
      ]
    },
    {
      "cell_type": "markdown",
      "metadata": {
        "id": "sDYZykenfNZM"
      },
      "source": [
        "The first part of the assignment is to reproduce some of the results from the original Dyna paper (Sutton, 1990). In particular, **your task is to generate and visualise data plotted in figure 6** in that paper. You can neglect Dyna-PI and only implement Dyna-$Q$- and Dyna-$Q$+.\n",
        "\n",
        "To make your life a little easier, and to let you jump right into the more interesting stuff, you are provided with the environment simulator located in `environment.py`, as well as a blueprint of the main code for the agent. That is, you have access to the file `agent.py` where you will find the `DynaAgent` class. This class has a method called `simulate` with the main simulation loop already implemented.\n",
        "\n",
        "**Your task is to fill in the missing implementation** in the `agent.py` file. Thus, you are tasked to complete the following functions:\n",
        "- `_policy`. This is the typical $\\pi(a\\mid s)$ which specifies how the agent chooses actions in any given state\n",
        "- `_update_qvals`. This is the $Q$-value update rule\n",
        "- `_update_experience_buffer`. This updates the agent's experience buffer from which it then samples planning updates\n",
        "- `_update_action_count`. This counts the number of moves elapsed since each action has last been attempted\n",
        "- `_plan`. This is the function which lets the agent plan"
      ]
    },
    {
      "cell_type": "markdown",
      "metadata": {
        "id": "PBVPxvxufNZN"
      },
      "source": [
        "Once that's done you can run the code below which will hopefully reproduce the figure"
      ]
    },
    {
      "cell_type": "code",
      "execution_count": null,
      "metadata": {
        "id": "ZIcTuRwifNZN"
      },
      "outputs": [],
      "source": [
        "import os\n",
        "import numpy as np\n",
        "import matplotlib.pyplot as plt"
      ]
    },
    {
      "cell_type": "markdown",
      "source": [
        "class Env"
      ],
      "metadata": {
        "id": "bF7Qxge2uzVI"
      }
    },
    {
      "cell_type": "code",
      "source": [
        "import numpy as np\n",
        "\n",
        "class Environment:\n",
        "    '''\n",
        "    Environment class which specifies how the agent moves through a given maze\n",
        "    '''\n",
        "\n",
        "    def __init__(self, p):\n",
        "        '''\n",
        "        Initialise the class instance\n",
        "        '''\n",
        "        # modified\n",
        "        self.num_x_states = p[\"num_x_states\"]\n",
        "        self.num_y_states = p[\"num_y_states\"]\n",
        "        self.num_actions = p[\"num_actions\"]\n",
        "        self.goal_state = p[\"goal_state\"]\n",
        "        self.reward_at_goal = p[\"reward_at_goal\"]\n",
        "        self.blocked_states = p[\"blocked_states\"]\n",
        "        self.start_state = p[\"start_state\"]\n",
        "\n",
        "        self.num_states = self.num_x_states * self.num_y_states # x*y\n",
        "\n",
        "\n",
        "        self._generate_env_model()\n",
        "\n",
        "        return None\n",
        "\n",
        "    def _generate_env_model(self):\n",
        "\n",
        "        '''\n",
        "        Generate transition and reward models\n",
        "        '''\n",
        "\n",
        "        self.T = np.zeros((self.num_states, self.num_actions, self.num_states))\n",
        "        self.R = np.zeros((self.num_states, self.num_actions), dtype=int)\n",
        "\n",
        "\n",
        "        for s in range(self.num_states):\n",
        "            for a in range(self.num_actions):\n",
        "\n",
        "                s1, r = self._get_new_state(s, a)\n",
        "                self.T[s, a, s1] += 1\n",
        "                self.R[s, a] = r\n",
        "\n",
        "        # normalise\n",
        "        for s in range(self.num_states):\n",
        "            for a in range(self.num_actions):\n",
        "                if ~np.all(self.T[s, a, :] == 0):\n",
        "                    self.T[s, a, :] /= np.sum(self.T[s, a, :])\n",
        "\n",
        "        return None\n",
        "\n",
        "    def _get_new_state(self, s, a):\n",
        "        '''\n",
        "        Returns next state and reward\n",
        "        params:\n",
        "            s: state\n",
        "            a: action\n",
        "        '''\n",
        "\n",
        "        i, j  = self._convert_state_to_coords(s)\n",
        "        s1, r = None, 0\n",
        "\n",
        "        if i == 0: # top end\n",
        "            if a == 0: # action up\n",
        "                return s, r\n",
        "        elif i == self.num_y_states - 1: # bottom end\n",
        "            if a == 1: # action down\n",
        "                return s, r\n",
        "        if j == 0: # left end\n",
        "            if a == 2: # move left\n",
        "                return s, r\n",
        "        elif j == self.num_x_states - 1: # right end\n",
        "            if a == 3: # move right\n",
        "                return s, r\n",
        "\n",
        "        if a == 0: # move up\n",
        "            ni, nj = i-1, j\n",
        "        elif a == 1: # move down\n",
        "            ni, nj = i+1, j\n",
        "        elif a == 2: # move left\n",
        "            ni, nj = i, j-1\n",
        "        else: # move right\n",
        "            ni, nj = i, j+1\n",
        "\n",
        "        s1 = self._convert_coords_to_state(ni, nj)\n",
        "\n",
        "        # check blocked states\n",
        "        if s1 in self.blocked_states:\n",
        "            return s, r\n",
        "\n",
        "        # check if goal\n",
        "        if s1 == self.goal_state:\n",
        "            r = self.reward_at_goal\n",
        "\n",
        "        return s1, r\n",
        "\n",
        "    def _convert_state_to_coords(self, s):\n",
        "        '''\n",
        "        Convert state to coordinates to index the maze\n",
        "        params:\n",
        "            s: state\n",
        "        '''\n",
        "\n",
        "        return s//self.num_x_states, s%self.num_x_states\n",
        "\n",
        "    def _convert_coords_to_state(self, i, j):\n",
        "        '''\n",
        "        Convert coordinates to state\n",
        "        params:\n",
        "            i: y coordinate\n",
        "            j: x coordinate\n",
        "        '''\n",
        "\n",
        "        return np.arange(self.num_y_states*self.num_x_states).reshape(self.num_y_states, self.num_x_states)[i][j]\n",
        "\n"
      ],
      "metadata": {
        "id": "Gyk_O370rpvo"
      },
      "execution_count": null,
      "outputs": []
    },
    {
      "cell_type": "code",
      "source": [
        "import numpy as np\n",
        "from scipy import stats # for gaussian noise\n",
        "\n",
        "\n",
        "class DynaAgent(Environment):\n",
        "\n",
        "    def __init__(self, alpha, gamma, epsilon):\n",
        "\n",
        "        '''\n",
        "        Initialise the agent class instance\n",
        "        Input arguments:\n",
        "            alpha   -- learning rate \\in (0, 1]\n",
        "            gamma   -- discount factor \\in (0, 1)\n",
        "            epsilon -- controls the influence of the exploration bonus\n",
        "        '''\n",
        "\n",
        "        self.alpha   = alpha\n",
        "        self.gamma   = gamma\n",
        "        self.epsilon = epsilon\n",
        "        return None\n",
        "\n",
        "    def init_env(self, env_config):\n",
        "\n",
        "        '''\n",
        "        Initialise the environment\n",
        "        Input arguments:\n",
        "            **env_config -- dictionary with environment parameters\n",
        "        '''\n",
        "        Environment.__init__(self, env_config)\n",
        "        return None\n",
        "\n",
        "    def _init_q_values(self):\n",
        "\n",
        "        '''\n",
        "        Initialise the Q-value table\n",
        "        '''\n",
        "\n",
        "        self.Q = np.zeros((self.num_states, self.num_actions))\n",
        "\n",
        "        return None\n",
        "\n",
        "    def _init_experience_buffer(self):\n",
        "\n",
        "        '''\n",
        "        Initialise the experience buffer\n",
        "        '''\n",
        "\n",
        "        self.experience_buffer = np.zeros((self.num_states*self.num_actions, 4), dtype=int)\n",
        "\n",
        "        for s in range(self.num_states):\n",
        "            for a in range(self.num_actions):\n",
        "                self.experience_buffer[s*self.num_actions+a] = [s, a, 0, s]\n",
        "\n",
        "        return None\n",
        "\n",
        "    def _init_history(self):\n",
        "\n",
        "        '''\n",
        "        Initialise the history\n",
        "        '''\n",
        "\n",
        "        self.history = np.empty((0, 4), dtype=int)\n",
        "\n",
        "\n",
        "        return None\n",
        "\n",
        "    def _init_action_count(self):\n",
        "\n",
        "        '''\n",
        "        Initialise the action count\n",
        "        '''\n",
        "\n",
        "        self.action_count = np.zeros((self.num_states, self.num_actions), dtype=int)\n",
        "\n",
        "        return None\n",
        "\n",
        "    def _update_experience_buffer(self, s, a, r, s1): # to complete\n",
        "\n",
        "        '''\n",
        "        Update the experience buffer (world model)\n",
        "        Input arguments:\n",
        "            s  -- initial state\n",
        "            a  -- chosen action\n",
        "            r  -- received reward\n",
        "            s1 -- next state\n",
        "        '''\n",
        "\n",
        "        self.experience_buffer[s*self.num_actions+a,:] = np.asarray((s,a,r,s1))\n",
        "        return None\n",
        "\n",
        "    def _update_qvals(self, s, a, r, s1, bonus=False): ## to complete\n",
        "\n",
        "        '''\n",
        "        Update the Q-value table\n",
        "        Input arguments:\n",
        "            s     -- initial state\n",
        "            a     -- chosen action\n",
        "            r     -- received reward\n",
        "            s1    -- next state\n",
        "            bonus -- True / False whether to use exploration bonus or not\n",
        "        '''\n",
        "        best_a  = np.argmax(self.Q[s1,:])\n",
        "        next_Q = self.Q[s1,best_a]\n",
        "\n",
        "        # complete the code\n",
        "\n",
        "        self.Q[s,a] = self.Q[s,a] + self.alpha*(r + (self.epsilon*bonus*np.sqrt(self.action_count[s,a])) + self.gamma*next_Q - self.Q[s,a])\n",
        "\n",
        "        return None\n",
        "\n",
        "    def _update_action_count(self, s, a): # to complete\n",
        "\n",
        "        '''\n",
        "        Update the action count\n",
        "        Input arguments:\n",
        "            Input arguments:\n",
        "            s  -- initial state\n",
        "            a  -- chosen action\n",
        "        '''\n",
        "\n",
        "        self.action_count = self.action_count + 1\n",
        "        self.action_count[s,a] = 0\n",
        "        return None\n",
        "\n",
        "    def _update_history(self, s, a, r, s1):\n",
        "\n",
        "        '''\n",
        "        Update the history\n",
        "        Input arguments:\n",
        "            s     -- initial state\n",
        "            a     -- chosen action\n",
        "            r     -- received reward\n",
        "            s1    -- next state\n",
        "        '''\n",
        "\n",
        "        self.history = np.vstack((self.history, np.array([s, a, r, s1])))\n",
        "\n",
        "        return None\n",
        "\n",
        "    def _policy(self, s): # !!complete\n",
        "\n",
        "        '''\n",
        "        Agent's policy\n",
        "        Input arguments:\n",
        "            s -- state\n",
        "        Output:\n",
        "            a -- index of action to be chosen\n",
        "        '''\n",
        "        qs = self.Q[s,:]\n",
        "        ns = self.action_count[s,:]\n",
        "        adapted_qs = qs + self.epsilon*np.sqrt(ns)\n",
        "\n",
        "        #if there is multiple adapted qs with same value, make a random choice\n",
        "        # between them. Im using noise to make the values different\n",
        "        # the noise doesnt change the q values itself\n",
        "\n",
        "        if self.epsilon != 1:\n",
        "            if np.unique(adapted_qs).shape[0] < 4:\n",
        "                adapted_qs += np.random.randn(4) * 1e-5\n",
        "\n",
        "            a = np.argmax(np.asarray(adapted_qs))\n",
        "\n",
        "        # epsilon greedy:\n",
        "        else:\n",
        "            epsi = 0.1\n",
        "            if np.random.random() < epsi:\n",
        "                a = np.random.randint(0,4)\n",
        "            else:\n",
        "                if np.unique(qs).shape[0] < 4:\n",
        "                    random_noise = np.random.randn(4) * 1e-5\n",
        "                    qs += random_noise\n",
        "                    a = np.argmax(np.asarray(qs))\n",
        "                    qs -= random_noise\n",
        "                else:\n",
        "                    a = np.argmax(np.asarray(qs))\n",
        "\n",
        "        return a\n",
        "      #Your task is to fill in the missing implementation in the agent.py file. Thus, you are tasked to complete the following functions:\n",
        "\n",
        "      # _policy. This is the typical  𝜋(𝑎∣𝑠)  which specifies how the agent chooses actions in any given state\n",
        "      # _update_qvals. This is the  𝑄 -value update rule\n",
        "      # _update_experience_buffer. This updates the agent's experience buffer from which it then samples planning updates\n",
        "      # _update_action_count. This counts the number of moves elapsed since each action has last been attempted\n",
        "      # _plan. This is the function which lets the agent plan\n",
        "\n",
        "    def _plan(self, num_planning_updates): # to complete\n",
        "\n",
        "        '''\n",
        "        Planning computations\n",
        "        Input arguments:\n",
        "            num_planning_updates -- number of planning updates to execute\n",
        "        '''\n",
        "\n",
        "        for _ in range(num_planning_updates):\n",
        "\n",
        "            sars_ind = np.random.randint(self.experience_buffer.shape[0])\n",
        "            s, a, r, s1 = self.experience_buffer[sars_ind]\n",
        "\n",
        "            self._update_qvals(s, a, r, s1, bonus=True)\n",
        "\n",
        "        return None\n",
        "\n",
        "    def get_performace(self):\n",
        "\n",
        "        '''\n",
        "        Returns cumulative reward collected prior to each move\n",
        "        '''\n",
        "\n",
        "        return np.cumsum(self.history[:, 2])\n",
        "\n",
        "    def simulate(self, num_trials, reset_agent=True, num_planning_updates=None):\n",
        "\n",
        "        '''\n",
        "        Main simulation function\n",
        "        Input arguments:\n",
        "            num_trials           -- number of trials (i.e., moves) to simulate\n",
        "            reset_agent          -- whether to reset all knowledge and begin at the start state\n",
        "            num_planning_updates -- number of planning updates to execute after every move\n",
        "        '''\n",
        "        if reset_agent:\n",
        "\n",
        "            self._init_q_values()\n",
        "            self._init_experience_buffer()\n",
        "            self._init_action_count()\n",
        "            self._init_history()\n",
        "\n",
        "            self.s = self.start_state\n",
        "\n",
        "        for _ in range(num_trials):\n",
        "\n",
        "            # choose action\n",
        "            a  = self._policy(self.s)\n",
        "            # get new state\n",
        "            s1 = np.random.choice(np.arange(self.num_states), p=list(self.T[self.s, a, :]))\n",
        "            # receive reward\n",
        "            r  = self.R[self.s, a]\n",
        "            # learning\n",
        "            self._update_qvals(self.s, a, r, s1, bonus=False)\n",
        "            # update world model\n",
        "            self._update_experience_buffer(self.s, a, r, s1)\n",
        "            # reset action count\n",
        "            self._update_action_count(self.s, a)\n",
        "            # update history\n",
        "            self._update_history(self.s, a, r, s1)\n",
        "            # plan\n",
        "            if num_planning_updates is not None:\n",
        "                self._plan(num_planning_updates)\n",
        "\n",
        "            if s1 == self.goal_state:\n",
        "                self.s = self.start_state\n",
        "            else:\n",
        "                self.s = s1\n",
        "\n",
        "        return None\n",
        "\n",
        "\n"
      ],
      "metadata": {
        "id": "RLPsQJHsmwQ6"
      },
      "execution_count": null,
      "outputs": []
    },
    {
      "cell_type": "code",
      "execution_count": null,
      "metadata": {
        "id": "gqrAI8_ZfNZO"
      },
      "outputs": [],
      "source": [
        "\n",
        "dyna_qplus  = DynaAgent(alpha=0.5, gamma=0.9, epsilon=0.001)\n",
        "dyna_qminus = DynaAgent(alpha=0.5, gamma=0.9, epsilon=0)\n"
      ]
    },
    {
      "cell_type": "code",
      "source": [],
      "metadata": {
        "id": "HMm0T6anjNXF"
      },
      "execution_count": null,
      "outputs": []
    },
    {
      "cell_type": "code",
      "source": [
        "maze1_conf = {\n",
        "    'num_x_states': 9,\n",
        "    'num_y_states': 6,\n",
        "    'num_actions': 4,\n",
        "    'goal_state': 8,\n",
        "    'reward_at_goal': 1,\n",
        "    'start_state': 48,\n",
        "    'blocked_states': [28, 29, 30, 31, 32, 33, 34, 35]\n",
        "}\n",
        "\n",
        "maze2_conf = {\n",
        "\n",
        "    'num_x_states': 9,\n",
        "    'num_y_states': 6,\n",
        "    'num_actions': 4,\n",
        "    'goal_state': 8,\n",
        "    'reward_at_goal': 1,\n",
        "    'start_state': 48,\n",
        "    'blocked_states': [28, 29, 30, 31, 32, 33, 34] #  maze2 configuration\n",
        "}\n"
      ],
      "metadata": {
        "id": "IzGcQiQPsGkX"
      },
      "execution_count": null,
      "outputs": []
    },
    {
      "cell_type": "code",
      "execution_count": null,
      "metadata": {
        "colab": {
          "base_uri": "https://localhost:8080/"
        },
        "id": "lmXH53xQfNZO",
        "outputId": "62fbda5e-bfa1-4249-915d-3356385ca498"
      },
      "outputs": [
        {
          "output_type": "stream",
          "name": "stdout",
          "text": [
            "done with run 10/50\n",
            "done with run 20/50\n",
            "done with run 30/50\n",
            "done with run 40/50\n",
            "done with run 50/50\n",
            "done with run 10/50\n",
            "done with run 20/50\n",
            "done with run 30/50\n",
            "done with run 40/50\n",
            "done with run 50/50\n"
          ]
        }
      ],
      "source": [
        "num_trials = 3000\n",
        "num_runs   = 50\n",
        "\n",
        "perf       = [np.zeros((num_runs, num_trials*2)),np.zeros((num_runs, num_trials*2)), np.zeros((num_runs, num_trials*2))]\n",
        "agents     = [dyna_qplus, dyna_qminus]\n",
        "\n",
        "for idx_agent, agent in enumerate(agents):\n",
        "\n",
        "    for idx_run in range(num_runs):\n",
        "        agent.init_env(maze1_conf)\n",
        "        agent.simulate(num_trials=num_trials, reset_agent=True, num_planning_updates=10)\n",
        "        # world change\n",
        "        agent.init_env(maze2_conf)\n",
        "        agent.simulate(num_trials=num_trials, reset_agent=False, num_planning_updates=10)\n",
        "        # save performance\n",
        "        perf[idx_agent][idx_run, :] = agent.get_performace()\n",
        "        if (idx_run+1)%10 == 0:\n",
        "            print('done with run %u/%u'%(idx_run+1, num_runs))\n",
        "\n",
        "# average cumulative reward\n",
        "avg_perf_dyna_qplus  = np.mean(perf[0], axis=0)\n",
        "avg_perf_dyna_qminus = np.mean(perf[1], axis=0)\n"
      ]
    },
    {
      "cell_type": "code",
      "execution_count": null,
      "metadata": {
        "colab": {
          "base_uri": "https://localhost:8080/",
          "height": 616
        },
        "id": "C2NAFpHmfNZO",
        "outputId": "d60e37f0-effd-4bfa-9000-e558cbaa219e"
      },
      "outputs": [
        {
          "output_type": "execute_result",
          "data": {
            "text/plain": [
              "<matplotlib.legend.Legend at 0x7a08dd5bc6d0>"
            ]
          },
          "metadata": {},
          "execution_count": 60
        },
        {
          "output_type": "display_data",
          "data": {
            "text/plain": [
              "<Figure size 1100x700 with 1 Axes>"
            ],
            "image/png": "[encoded data removed]"
          },
          "metadata": {}
        }
      ],
      "source": [
        "\n",
        "plt.figure(figsize=(11, 7))\n",
        "plt.plot(avg_perf_dyna_qplus,  label='Dyna-Q+')\n",
        "plt.plot(avg_perf_dyna_qminus, label='Dyna-Q-')\n",
        "plt.axvline(3000, linestyle='--', c='r')\n",
        "plt.legend()\n",
        "\n"
      ]
    },
    {
      "cell_type": "markdown",
      "metadata": {
        "id": "ycnTC4AkfNZO"
      },
      "source": [
        "Describe in your own words the apparent differences you observe in the above plot. Some of those differences involve the particular choice of the exploration bonus used in this algorithm. Suggest and implement another sensible exploration bonus and compare the performance of your agent against Dyna-$Q$+ and Dyna-$Q$-. Explain your choice."
      ]
    },
    {
      "cell_type": "markdown",
      "source": [
        "The figure shows the average performance of Dyna systems on a shortcut task: The left maze was used for the first 3000 time steps, the right maze for the last trials. Shown is the cumulative reward received by a Dyna system at each time (e.g., the slope corresponds to the rate at which reward was received)."
      ],
      "metadata": {
        "id": "LOL84aMHgCPQ"
      }
    },
    {
      "cell_type": "markdown",
      "source": [
        "We can observe from the plot above that the DYNA Q+ agent increase in the gaining rate of the reward (increasing gradient), while the DYNA Q- approach semms to  This means that Dyna-Q+ learns to take a shortcut, while Dyna-Q- does not. The possible explnation would be that the exploration bonus that Dyna-Q+ has and Dyna-Q- doesnt.\n",
        "\n",
        "The DYNA Q+ system also learned the original long route faster than the Q- system. Continually re-exploring the world means occasionally making suboptimal actions. Finally, we can see that the Q+ system actually acheives a slightly lower rate of reinforcement during the first 3000 steps: in a static environment, DYNA Q+ will eventually perform worse than Dyna-Q-, whereas, in a changing environment, it will be far superior, as demonstrated in this example"
      ],
      "metadata": {
        "id": "eUI5gmHerAor"
      }
    },
    {
      "cell_type": "markdown",
      "source": [],
      "metadata": {
        "id": "fLhTCisS80xO"
      }
    },
    {
      "cell_type": "markdown",
      "metadata": {
        "id": "S6ij4SJ6fNZO"
      },
      "source": [
        "## 2-step task"
      ]
    },
    {
      "cell_type": "markdown",
      "metadata": {
        "id": "Qa7ZBdatfNZO"
      },
      "source": [
        "#### Background"
      ]
    },
    {
      "cell_type": "markdown",
      "metadata": {
        "id": "OhF0NtIufNZO"
      },
      "source": [
        "The 2-step task is one of the most iconic RL tasks (Daw et al. 2011). It was designed to dissect the relative contributions of the MF and MB systems in human choices. There are multiple ways in which MB information can enter choice. For instance, as you will have seen in the case of Dyna, the MF values are additionally trained by the MB system during offline behavioural states. In fact, this process of Dyna-style planning parallels closely hippocampal replay which has been suggested to implement MB planning (Mattar \\& Daw, 2018).\n",
        "\n",
        "For the purpose of this exercise, we will assume that the choice is guided by a linear combination of the MF and MB values. Thus, by tweaking the relative contribution of each, you would expect different behaviours to emerge. Classically, the measure of this balance used in the 2-step task is stay probability. That is, the probability that the subject/agent repeats the same first-stage choice conditioned on the outcome of the second stage in the previous trial."
      ]
    },
    {
      "cell_type": "markdown",
      "metadata": {
        "id": "B-UrjA_2fNZO"
      },
      "source": [
        "#### Task 2 [20 marks]"
      ]
    },
    {
      "cell_type": "markdown",
      "metadata": {
        "id": "lZGxGNQ7fNZO"
      },
      "source": [
        "For this part of the assigniment, **your task is to reproduce and visualise data plotted in figure 2** in Daw et al. (2011). There is no pre-implemented code for the agent, except for some basics in the `agent.py` file where you can find the `TwoStepAgent` class. Therefore, you have to follow the methodology in the paper and implement it yourself. You can find the relevant paper in the `papers` folder of this git repository. The only provided code is the one below, as well as the `get_stay_probabilities` method."
      ]
    },
    {
      "cell_type": "markdown",
      "source": [
        "SARSA\n",
        "\n",
        "\n",
        "The task consists of three states (first stage: $s_A$; second stage: $s_B$ and $s_C$ ), each with two actions ( $a_A$ and $\\left.a_B\\right)$. The goal of both the model-based and model-free subcomponents of the algorithm is to learn a state-action value function $Q(s, a)$ mapping each state-action pair to its expected future value. On trial $t$, we denote the first-stage state (always $s_A$ ) by $s_{1, t}$, the second-stage state by $s_{2, t}$ the first- and secondstage actions by $a_{1, t}$ and $a_{2, t}$, and the first- and second-stage rewards as $r_{1, t}$ (always zero) and $r_{2, t}$.\n",
        "\n",
        "The model free algorithm was SARSA $(\\lambda)$ temporal difference learning (Rummery and Niranjan, 1994). At each stage $i$ of each trial $t$, the value for the visited state-action pair was updated according to:\n",
        "$$\n",
        "Q_{T D}\\left(s_{i, t}, a_{i, t}\\right)=Q_{T D}\\left(s_{i, t}, a_{i, t}\\right)+\\alpha_i \\delta_{i, t}\n",
        "$$\n",
        "where\n",
        "$$\n",
        "\\delta_{i, t}=r_{i, t}+Q_{T D}\\left(s_{i+1, t}, a_{i+1, t}\\right)-Q_{T D}\\left(s_{i, t}, a_{i, t}\\right)\n",
        "$$\n",
        "and $\\alpha_i$ are free learning-rate parameters. (We allow different learning rates $\\alpha_1$ and $\\alpha_2$ for the two task"
      ],
      "metadata": {
        "id": "7gVWdNoPbSNQ"
      }
    },
    {
      "cell_type": "markdown",
      "source": [
        "Then, using Bellman's equation, we define the model-based values of the first level actions as\n",
        "$$\n",
        "Q_{M B}\\left(s_A, a_j\\right)=P\\left(s_B \\mid s_A, a_j\\right) \\max _{a \\in\\left\\{a_A, a_B\\right\\}} Q_{T D}\\left(s_B, a\\right)+P\\left(s_C \\mid s_A, a_j\\right) \\max _{a \\in\\left\\{a_A, a_B\\right\\}} Q_{T D}\\left(s_C, a\\right)\n",
        "$$"
      ],
      "metadata": {
        "id": "yLvgLQ7E3Rea"
      }
    },
    {
      "cell_type": "code",
      "source": [
        "np.ones(4) * 0.5"
      ],
      "metadata": {
        "colab": {
          "base_uri": "https://localhost:8080/"
        },
        "id": "6IbXpenL1b1a",
        "outputId": "910d3a9a-f13c-431a-b600-45dc92e493b0"
      },
      "execution_count": 69,
      "outputs": [
        {
          "output_type": "execute_result",
          "data": {
            "text/plain": [
              "array([0.5, 0.5, 0.5, 0.5])"
            ]
          },
          "metadata": {},
          "execution_count": 69
        }
      ]
    },
    {
      "cell_type": "code",
      "source": [
        "\n",
        "class TwoStepAgent:\n",
        "    def __init__(self, alpha1, alpha2, beta1, beta2, lam, w, p):\n",
        "        \"\"\"\n",
        "        Initialize the agent class instance.\n",
        "\n",
        "        Args:\n",
        "            alpha1 (float): Learning rate for the first stage.\n",
        "            alpha2 (float): Learning rate for the second stage.\n",
        "            beta1  (float): Inverse temperature for the first stage.\n",
        "            beta2  (float): Inverse temperature for the second stage.\n",
        "            lam    (float): Eligibility trace parameter.\n",
        "            w      (float): Mixing weight for model-free vs. model-based learning.\n",
        "            p      (float): Perseveration strength.\n",
        "        \"\"\"\n",
        "        self.alpha1 = alpha1\n",
        "        self.alpha2 = alpha2\n",
        "\n",
        "        self.beta1 = beta1\n",
        "        self.beta2 = beta2\n",
        "        self.rewards = np.ones(4) * 0.5\n",
        "\n",
        "        self.lam = lam\n",
        "        self.w = w\n",
        "        self.p = p\n",
        "        self.num_actions = 2\n",
        "        self.num_states = 3\n",
        "        self.start_state = 0\n",
        "\n",
        "        self._init_q_values()\n",
        "        self._init_history()\n",
        "        self._init_transition_matrix()\n",
        "        self._init_track_state_transition()\n",
        "\n",
        "    def _init_q_values(self):\n",
        "        \"\"\"ini Q-value tables for TD, MB, and combined strategies.\"\"\"\n",
        "        self.QTD = np.zeros(self.num_states * self.num_actions)\n",
        "        self.QMB = np.zeros(self.num_states * self.num_actions)\n",
        "        self.Qnet = np.zeros(self.num_states * self.num_actions)\n",
        "\n",
        "    def _init_history(self):\n",
        "        self.history = np.empty((0, 3), dtype=int)\n",
        "\n",
        "    def get_reward(self, s, a):\n",
        "        \"\"\"\n",
        "        Calculate the reward for a given state and action.\n",
        "\n",
        "        Args:\n",
        "            s (int): State (should be 1 or 2 in the current setup).\n",
        "            a (int): Action (either 0 or 1).\n",
        "\n",
        "        Returns:\n",
        "            int: Reward received.\n",
        "        \"\"\"\n",
        "        adjusted_s = max(1, min(s, 2))\n",
        "        adjusted_a = max(0, min(a, 1))\n",
        "        # calculate pos\n",
        "        position = (adjusted_s - 1) * 2 + adjusted_a\n",
        "        prob = self.rewards[position]\n",
        "        return np.random.choice([0, 1], p=[1 - prob, prob])\n",
        "\n",
        "    def update_rewards(self):\n",
        "        \"\"\"Update rewards by adding Gaussian noise with lower and upper bounds\"\"\"\n",
        "        # self.rewards += np.random.normal(loc=0, scale=0.025, size=4)\n",
        "        self.rewards += np.random.normal(loc=0, scale=0.1, size=4)\n",
        "        self.rewards = np.clip(self.rewards, 0.0, 1.0)\n",
        "\n",
        "    def _init_transition_matrix(self):\n",
        "        \"\"\"Initialize the transition matrix for state transitions.\"\"\"\n",
        "        self.transition_m = [[0.7, 0.3], [0.3, 0.7]]\n",
        "        self.current_transition_m = self.transition_m[0]\n",
        "\n",
        "    def _init_track_state_transition(self):\n",
        "        \"\"\"Initialize counters for tracking evidence for each transition matrix.\"\"\"\n",
        "        self.transition_1 = 0\n",
        "        self.transition_2 = 0\n",
        "        self.last_a = -1\n",
        "\n",
        "    def _track_state_transitions(self, a, s1):\n",
        "        \"\"\"\n",
        "        Track the state transitions to update the transition matrix evidence counters.\n",
        "\n",
        "        Args:\n",
        "            a (int): Action taken.\n",
        "            s1 (int): Resulting state.\n",
        "        \"\"\"\n",
        "        if (s1 == 1 and a == 0) or (s1 == 2 and a == 1):\n",
        "            self.transition_1 += 1\n",
        "        elif (s1 == 2 and a == 0) or (s1 == 1 and a == 1):\n",
        "            self.transition_2 += 1\n",
        "\n",
        "    def _update_q_td(self, s, a, r, s1, a1, trace):\n",
        "        \"\"\"\n",
        "        Update the Q-value table for TD learning.\n",
        "\n",
        "        Args:\n",
        "            s (int): Initial state.\n",
        "            a (int): Chosen action.\n",
        "            r (int): Received reward.\n",
        "            s1 (int): Next state.\n",
        "            a1 (int): Next action.\n",
        "            trace (bool)\n",
        "        \"\"\"\n",
        "        sa_index = s * self.num_actions + a\n",
        "        if s == 0:\n",
        "            next_sa_index = s1 * self.num_actions + a1\n",
        "            q_s1 = self.QTD[next_sa_index]\n",
        "\n",
        "            if trace:\n",
        "                delta = r - q_s1\n",
        "                self.QTD[sa_index] += self.alpha1 * delta * self.lam\n",
        "            else:\n",
        "                q_s = self.QTD[sa_index]\n",
        "                delta = r + q_s1 - q_s\n",
        "                self.QTD[sa_index] += self.alpha1 * delta\n",
        "        else:\n",
        "            q_s = self.QTD[sa_index]\n",
        "            delta = r - q_s\n",
        "            self.QTD[sa_index] += self.alpha2 * delta\n",
        "\n",
        "    def _update_q_mb(self, s, a):\n",
        "        \"\"\"\n",
        "        Update the Q-value table for MB learning.\n",
        "\n",
        "        Args:\n",
        "            s (int): Initial state.\n",
        "            a (int): Chosen action.\n",
        "        \"\"\"\n",
        "        if self.transition_1 > self.transition_2:\n",
        "            self.current_transition_m = self.transition_m[0]\n",
        "        else:\n",
        "            self.current_transition_m = self.transition_m[1]\n",
        "\n",
        "        sa_index = s * self.num_actions + a\n",
        "        if s == 0:\n",
        "            self.QMB[sa_index] = self.current_transition_m[a] * np.max(self.QTD[2:4]) + (1 - self.current_transition_m[a]) * np.max(self.QTD[4:])\n",
        "        else:\n",
        "            self.QMB[sa_index] = self.QTD[sa_index]\n",
        "\n",
        "    def _update_q_net(self, s, a):\n",
        "        \"\"\"\n",
        "        Update the Q-value table for the combined strategy (TD and MB).\n",
        "        Args:\n",
        "            s (int): State.\n",
        "            a (int): Action.\n",
        "        \"\"\"\n",
        "        sa_index = s * self.num_actions + a\n",
        "        if s == 0:\n",
        "            self.Qnet[sa_index] = self.w * self.QMB[sa_index] + (1 - self.w) * self.QTD[sa_index]\n",
        "        else:\n",
        "            self.Qnet[sa_index] = self.QTD[sa_index]\n",
        "\n",
        "    def _update_history(self, a, s1, r):\n",
        "        \"\"\"\n",
        "        Update the history with the latest action, state, and reward.\n",
        "\n",
        "        Args:\n",
        "            a (int): Action taken.\n",
        "            s1 (int): Resulting state.\n",
        "            r (int): Received reward.\n",
        "        \"\"\"\n",
        "        self.history = np.vstack((self.history, np.array([a, s1, r])))\n",
        "\n",
        "    def get_next_state(self, s, a):\n",
        "        \"\"\"\n",
        "        Get the next state based on the current state and action.\n",
        "\n",
        "        Args:\n",
        "            s (int): Current state.\n",
        "            a (int): Action taken.\n",
        "\n",
        "        Returns:\n",
        "            int: Next state.\n",
        "        \"\"\"\n",
        "        if s == 0:\n",
        "            prob1 = self.transition_m[0][a]\n",
        "            return np.random.choice([1, 2], p=[prob1, 1 - prob1])\n",
        "        else:\n",
        "            return 3\n",
        "\n",
        "    def _policy(self, s):\n",
        "        \"\"\"\n",
        "        Define the agent's policy: action selection strategy based on the state.\n",
        "\n",
        "        Args:\n",
        "            s (int): Current state.\n",
        "\n",
        "        Returns:\n",
        "            int: Chosen action.\n",
        "        \"\"\"\n",
        "        # Calculate the exponential of the action values (adjusted by the beta parameter)\n",
        "        exp_values = np.exp([self.beta1 if s == 0 else self.beta2] * (self.Qnet[s * self.num_actions:(s + 1) * self.num_actions] + self.p * (self.last_a == np.arange(self.num_actions))))\n",
        "\n",
        "        # Normalize to get probabilities\n",
        "        action_probabilities = exp_values / np.sum(exp_values)\n",
        "\n",
        "        # Choose an action based on the calculated probabilities\n",
        "        return np.random.choice(self.num_actions, p=action_probabilities)\n",
        "\n",
        "    def get_stay_probabilities(self):\n",
        "\n",
        "        '''\n",
        "        Calculate stay probabilities\n",
        "        '''\n",
        "\n",
        "        common_r      = 0\n",
        "        num_common_r  = 0\n",
        "        common_nr     = 0\n",
        "        num_common_nr = 0\n",
        "        rare_r        = 0\n",
        "        num_rare_r    = 0\n",
        "        rare_nr       = 0\n",
        "        num_rare_nr   = 0\n",
        "\n",
        "        num_trials = self.history.shape[0]\n",
        "        for idx_trial in range(num_trials-1):\n",
        "            a, s1, r1 = self.history[idx_trial, :]\n",
        "            a_next    = self.history[idx_trial+1, 0]\n",
        "\n",
        "            # common\n",
        "            if (a == 0 and s1 == 1) or (a == 1 and s1 == 2):\n",
        "                # rewarded\n",
        "                if r1 == 1:\n",
        "                    if a == a_next:\n",
        "                        common_r += 1\n",
        "                    num_common_r += 1\n",
        "                else:\n",
        "                    if a == a_next:\n",
        "                        common_nr += 1\n",
        "                    num_common_nr += 1\n",
        "            else:\n",
        "                if r1 == 1:\n",
        "                    if a == a_next:\n",
        "                        rare_r += 1\n",
        "                    num_rare_r += 1\n",
        "                else:\n",
        "                    if a == a_next:\n",
        "                        rare_nr += 1\n",
        "                    num_rare_nr += 1\n",
        "\n",
        "        return np.array([common_r/num_common_r, rare_r/num_rare_r, common_nr/num_common_nr, rare_nr/num_rare_nr])\n",
        "\n",
        "\n",
        "    def simulate(self, num_trials):\n",
        "\n",
        "        '''\n",
        "        Main simulation function\n",
        "        Input arguments:\n",
        "            num_trials -- number of trials to simulate\n",
        "        '''\n",
        "\n",
        "        self._init_q_values()\n",
        "        self._init_track_state_transition()\n",
        "        self._init_history()\n",
        "        self._init_transition_matrix()\n",
        "\n",
        "        self.rewards = np.ones(4) * 0.5\n",
        "\n",
        "        for trial in range(num_trials):\n",
        "\n",
        "            s1 = self.start_state\n",
        "            a1 = self._policy(s1)\n",
        "            r1 = 0\n",
        "\n",
        "            # next state and action\n",
        "            s2 = self.get_next_state(s1, a1)\n",
        "\n",
        "            self._track_state_transitions(a1, s2)\n",
        "            self.last_a = a1\n",
        "            a2 = self._policy(s2)\n",
        "\n",
        "            r2 = self.get_reward(s2,a2)\n",
        "\n",
        "            # Update Q tables\n",
        "\n",
        "            self._update_q_td(s1, a1, r1, s2, a2, False)\n",
        "            self._update_q_td(s2, a2, r2, None, None, False)\n",
        "            self._update_q_td(s1, a1, r2, s2, a2, True)\n",
        "\n",
        "            self._update_q_mb(s1,a1)\n",
        "            self._update_q_mb(s2,a2)\n",
        "\n",
        "            self._update_q_net(s1,a1)\n",
        "            self._update_q_net(s2,a2)\n",
        "\n",
        "            self._update_history(a1, s2, r2)\n",
        "            self.update_rewards()\n",
        "\n",
        "        return None\n",
        "\n",
        "\n"
      ],
      "metadata": {
        "id": "WCTsSH-b0V0_"
      },
      "execution_count": 76,
      "outputs": []
    },
    {
      "cell_type": "code",
      "source": [
        "\n",
        "def plot_stay_probabilities(stay_probas, w, subplot_index, num_plots):\n",
        "    plt.subplot(1, num_plots, subplot_index)\n",
        "    plt.bar(1, np.mean(stay_probas[:, 0]), facecolor='blue', label='common')\n",
        "    plt.bar(2, np.mean(stay_probas[:, 1]), facecolor='red', label='rare')\n",
        "    plt.bar(3, np.mean(stay_probas[:, 2]), facecolor='blue')\n",
        "    plt.bar(4, np.mean(stay_probas[:, 3]), facecolor='red')\n",
        "    plt.ylim(0.5, 1)\n",
        "    plt.xticks([1.5, 3.5], ['rewarded', 'unrewarded'])\n",
        "    plt.title(f'w = {w}')\n",
        "    if subplot_index == 1:\n",
        "        plt.legend()\n",
        "    plt.tight_layout()\n",
        "\n",
        "w_values = [0, 0.2, 0.4, 0.6, 0.8, 1.0]\n",
        "num_plots = len(w_values)\n",
        "\n",
        "\n",
        "plt.figure(figsize=(20, 4))\n",
        "\n",
        "\n",
        "for i, w in enumerate(w_values, start=1):\n",
        "    agent = TwoStepAgent(alpha1=0.6, alpha2=0.31, beta1=4.19, beta2=2.69, lam=0.57, w=w, p=0.11)\n",
        "    # agent = TwoStepAgent(alpha1=0.54, alpha2=0.42, beta1=5.19, beta2=3.69, lam=0.57, w=w, p=0.11)\n",
        "    np.random.seed(2)\n",
        "    num_trials = 201\n",
        "    num_averg = 17\n",
        "    stay_probas = np.zeros((num_averg, 4))\n",
        "\n",
        "    for n in range(num_averg):\n",
        "        agent.simulate(num_trials)\n",
        "        stay_probas[n, :] = agent.get_stay_probabilities()\n",
        "\n",
        "    plot_stay_probabilities(stay_probas, w, i, num_plots)\n",
        "\n",
        "plt.show()"
      ],
      "metadata": {
        "id": "A4KQpUer2QFZ",
        "colab": {
          "base_uri": "https://localhost:8080/",
          "height": 222
        },
        "outputId": "187d29f5-39dc-46a5-a33a-ab1ea0f18188"
      },
      "execution_count": null,
      "outputs": [
        {
          "output_type": "display_data",
          "data": {
            "text/plain": [
              "<Figure size 2000x400 with 6 Axes>"
            ],
            "image/png": "[encoded data removed]"
          },
          "metadata": {}
        }
      ]
    },
    {
      "cell_type": "markdown",
      "metadata": {
        "id": "FNUHn8wSfNZP"
      },
      "source": [
        "The first subplot, we can see that for both common and rare, staying probs are nearly the same, This is mainly because Model-Free agents learn and make decisions based on a cached value of actions, determined through past rewards and punishments. They rely on a strategy that does not account for the structure of the environment or the potential future consequences of actions.\n",
        "\n",
        "For the later plots (w close to 1.0), we can observe that the agent are more likely to stay for unrewarded choice, given 'rare', vice versa for the rewarded. The MB strategy suggests that a rare transition should be informative, affecting the valuation of the other first-stage option and leading to a different pattern of stay probabilities. Specifically, it predicts that the stay probability should be higher in the case of a rare transition followed by a reward (since it suggests the unchosen option is devalued) and lower when a rare transition is unrewarded (since the unchosen option is likely better).\n",
        "\n",
        "\n",
        "\n",
        "The data (Figure C in the paper) indicates a combination of both MF and MB strategies.\n",
        "\n"
      ]
    }
  ],
  "metadata": {
    "kernelspec": {
      "display_name": "gtc",
      "language": "python",
      "name": "python3"
    },
    "language_info": {
      "codemirror_mode": {
        "name": "ipython",
        "version": 3
      },
      "file_extension": ".py",
      "mimetype": "text/x-python",
      "name": "python",
      "nbconvert_exporter": "python",
      "pygments_lexer": "ipython3",
      "version": "3.9.17"
    },
    "colab": {
      "provenance": [],
      "collapsed_sections": [
        "hOfaSRfTfNZJ"
      ],
      "include_colab_link": true
    }
  },
  "nbformat": 4,
  "nbformat_minor": 0
}