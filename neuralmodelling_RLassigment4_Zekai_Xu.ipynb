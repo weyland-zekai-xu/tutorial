{
  "cells": [
    {
      "cell_type": "markdown",
      "metadata": {
        "id": "view-in-github",
        "colab_type": "text"
      },
      "source": [
        "<a href=\"https://colab.research.google.com/github/weyland-zekai-xu/tutorial/blob/main/neuralmodelling_RLassigment4_Zekai_Xu.ipynb\" target=\"_parent\"><img src=\"https://colab.research.google.com/assets/colab-badge.svg\" alt=\"Open In Colab\"/></a>"
      ]
    },
    {
      "cell_type": "markdown",
      "id": "d75c0957",
      "metadata": {
        "id": "d75c0957"
      },
      "source": [
        "# Decision making under uncertainty"
      ]
    },
    {
      "cell_type": "markdown",
      "id": "59fa1d70",
      "metadata": {
        "id": "59fa1d70"
      },
      "source": [
        "In this lecture, you learned about how the Markov decision process (MDP) framework can be extended to allow uncertainty about the states. This can be used to model a wide range of decision-making problems where there is uncertainty or noise associated with the state of the world.\n",
        "\n",
        "We considered the example of the random dot motion discrimination task, where a subject must indicate the direction in which the majority of dots are moving. In this assignment, you will solve a two-stage formulation of this task, where the decision-maker can either make an immediate decision (i.e., at the first stage) on the basis of initial information, or choose to wait and gather further information before making their choice (i.e., at the second stage). The complete description of the problem can be found in the lecture slides and also in the original paper: http://www.gatsby.ucl.ac.uk/~dayan/papers/NDM002wc.pdf\n",
        "\n",
        "Your task is to reproduce the plots from Figure 9 of the paper, interpret the results, and explain the steps of the solution."
      ]
    },
    {
      "cell_type": "code",
      "execution_count": null,
      "id": "674afc92",
      "metadata": {
        "id": "674afc92"
      },
      "outputs": [],
      "source": [
        "import numpy as np\n",
        "import matplotlib.pyplot as plt"
      ]
    },
    {
      "cell_type": "markdown",
      "id": "258c9a53",
      "metadata": {
        "id": "258c9a53"
      },
      "source": [
        "## 0. Define the parameters of the model (0.5 pts)"
      ]
    },
    {
      "cell_type": "code",
      "execution_count": 5,
      "id": "83efb985",
      "metadata": {
        "id": "83efb985"
      },
      "outputs": [],
      "source": [
        "u1 = 6.\n",
        "u2 = 4.\n",
        "\n",
        "sigma1 = 1.\n",
        "sigma2 = 1."
      ]
    },
    {
      "cell_type": "markdown",
      "id": "a054a333",
      "metadata": {
        "id": "a054a333"
      },
      "source": [
        "## 1. Updating the belief state  (2.5 pts)\n",
        "The actual direction of motion ('state') is not completely observable to the subject. Hence, the subject can only rely on observations to compute the *belief* that the direction of motion is left or right (this is the posterior probability or 'belief state')."
      ]
    },
    {
      "cell_type": "markdown",
      "id": "469a4601",
      "metadata": {
        "id": "469a4601"
      },
      "source": [
        "### 1a. Write a function that will calculate this posterior given the prior belief and an observation (the belief update). (0.5 pt)"
      ]
    },
    {
      "cell_type": "code",
      "execution_count": 2,
      "id": "2b6003ee",
      "metadata": {
        "id": "2b6003ee"
      },
      "outputs": [],
      "source": [
        "from scipy.stats import norm\n",
        "\n",
        "def update_posterior(prior, likelihood_mean, likelihood_variance, observation):\n",
        "    \"\"\"\n",
        "    Update the posterior belief about the state of the world based on new observations.\n",
        "    \"\"\"\n",
        "\n",
        "    prior_mean, prior_variance = prior\n",
        "\n",
        "    prior_precision = 1 / prior_variance\n",
        "    likelihood_precision = 1 / likelihood_variance\n",
        "\n",
        "    # posterior\n",
        "    posterior_precision = prior_precision + likelihood_precision\n",
        "    posterior_variance = 1 / posterior_precision\n",
        "    posterior_mean = (prior_precision * prior_mean + likelihood_precision * likelihood_mean) / posterior_precision\n",
        "\n",
        "    return (posterior_mean, posterior_variance)\n",
        "\n"
      ]
    },
    {
      "cell_type": "code",
      "source": [
        "# test for the func\n",
        "\n",
        "prior = (0, 1)\n",
        "likelihood_mean = 1\n",
        "likelihood_variance = 2\n",
        "observation = 1.5\n",
        "\n",
        "update_posterior(prior, likelihood_mean, likelihood_variance, observation)\n"
      ],
      "metadata": {
        "colab": {
          "base_uri": "https://localhost:8080/"
        },
        "id": "zh3OdhWwfYw6",
        "outputId": "14515ccf-4856-4b22-986a-4ea2404b09a6"
      },
      "id": "zh3OdhWwfYw6",
      "execution_count": 3,
      "outputs": [
        {
          "output_type": "execute_result",
          "data": {
            "text/plain": [
              "(0.3333333333333333, 0.6666666666666666)"
            ]
          },
          "metadata": {},
          "execution_count": 3
        }
      ]
    },
    {
      "cell_type": "markdown",
      "id": "04e6c533",
      "metadata": {
        "id": "04e6c533"
      },
      "source": [
        "### 1b. Use this function to update the belief on the first observation at step $\\beta$ and reproduce Fig 9A.  Interpret the plot. (1 pt)"
      ]
    },
    {
      "cell_type": "code",
      "execution_count": 14,
      "id": "eb7ef835",
      "metadata": {
        "id": "eb7ef835",
        "colab": {
          "base_uri": "https://localhost:8080/",
          "height": 492
        },
        "outputId": "e1f187b5-ee7c-4f17-a74c-5b01d5f56c77"
      },
      "outputs": [
        {
          "output_type": "display_data",
          "data": {
            "text/plain": [
              "<Figure size 400x500 with 1 Axes>"
            ],
            "image/png": "[encoded data removed]"
          },
          "metadata": {}
        }
      ],
      "source": [
        "def belief_state_updated(c, prior, likelihood_means, likelihood_variances):\n",
        "    \"\"\"\n",
        "    Compute the updated belief state given an observation c, a prior, and likelihood parameters.\n",
        "    \"\"\"\n",
        "    likelihood_mean_x1, likelihood_mean_x2 = likelihood_means\n",
        "    likelihood_variance_x1, likelihood_variance_x2 = likelihood_variances\n",
        "\n",
        "    pos_x1 = update_posterior(prior, likelihood_mean_x1, likelihood_variance_x1, c)\n",
        "    pos_x2 = update_posterior(prior, likelihood_mean_x2, likelihood_variance_x2, c)\n",
        "\n",
        "    p_x1_given_c = norm.pdf(c, *pos_x1)\n",
        "    p_x2_given_c = norm.pdf(c, *pos_x2)\n",
        "\n",
        "    # normalization\n",
        "    p_total = p_x1_given_c + p_x2_given_c\n",
        "    p_x1_given_c /= p_total\n",
        "    p_x2_given_c /= p_total\n",
        "\n",
        "    return p_x1_given_c, p_x2_given_c\n",
        "\n",
        "prior_belief = ((u1 + u2) / 2, 1000)\n",
        "\n",
        "likelihood_means = (u1, u2)\n",
        "likelihood_variances = (sigma1 ** 2, sigma2 ** 2)\n",
        "\n",
        "c_list = np.linspace(0, 10, 30)\n",
        "\n",
        "updated_beliefs = np.zeros((30, 2))\n",
        "for i, c in enumerate(c_list):\n",
        "    updated_beliefs[i, :] = belief_state_updated(c, prior_belief, likelihood_means, likelihood_variances)\n",
        "\n",
        "\n",
        "plt.figure(figsize=(4, 5))\n",
        "plt.plot(c_list, updated_beliefs[:, 0], '-.', color='purple', label=\"x3\")\n",
        "plt.plot(c_list, updated_beliefs[:, 1], '.', color='g', label=\"x4\")\n",
        "plt.xlabel(r'$c_\\beta$')\n",
        "plt.ylabel(r'$p(x_\\beta|c_\\beta)$')\n",
        "plt.title(r\"Posterior $x_\\beta$\")\n",
        "plt.legend()\n",
        "plt.show()\n",
        "\n"
      ]
    },
    {
      "cell_type": "markdown",
      "id": "3b0561b6",
      "metadata": {
        "id": "3b0561b6"
      },
      "source": [
        "INSERT ANSWER BELOW"
      ]
    },
    {
      "cell_type": "markdown",
      "source": [
        "The plot above demonstrates the posterior distribution of $x_\\beta$ given the observation value $c_\\beta$. The probabilities for each state given the observation $c_\\beta$ have been computed using Bayesian updating, with the assumption of a prior distribution centered between the two states with a large variance, indicating initial uncertainty. The curves intersect at 5, where probabilities are equal to 0.5, illustrating the changing belief in which state is more likely as the observation $c_\\beta$ varies from zero to ten."
      ],
      "metadata": {
        "id": "GCGicuBGkyO9"
      },
      "id": "GCGicuBGkyO9"
    },
    {
      "cell_type": "markdown",
      "id": "939f6949",
      "metadata": {
        "id": "939f6949"
      },
      "source": [
        "### 1c. Write a function to update the belief on observing another sample at step $\\alpha$ and reproduce Fig 9B.  Interpret the plot. (1 pt)\n",
        "Hint: You will have to calculate this probability for every possible pair of observations."
      ]
    },
    {
      "cell_type": "code",
      "source": [
        "c_alpha_values = np.linspace(0, 10, 50)\n",
        "c_beta_values = np.linspace(0, 10, 50)"
      ],
      "metadata": {
        "id": "tMbDlD0X1vpd"
      },
      "id": "tMbDlD0X1vpd",
      "execution_count": null,
      "outputs": []
    },
    {
      "cell_type": "code",
      "source": [
        "\n",
        "def update_belief_state_alpha_v2(c_alpha, c_beta, u1, u2, sigma):\n",
        "    \"\"\"\n",
        "    Update the belief state given two observations c_alpha and c_beta.\n",
        "    \"\"\"\n",
        "    p_c_alpha_given_x1 = norm(u1, sigma).pdf(c_alpha)\n",
        "    p_c_alpha_given_x2 = norm(u2, sigma).pdf(c_alpha)\n",
        "    p_c_beta_given_x3 = norm(u1, sigma).pdf(c_beta)\n",
        "    p_c_beta_given_x4 = norm(u2, sigma).pdf(c_beta)\n",
        "\n",
        "    # posterior probability of x1 given the c's at both steps\n",
        "    return p_c_alpha_given_x1 * p_c_beta_given_x3 / (\n",
        "        p_c_alpha_given_x1 * p_c_beta_given_x3 + p_c_alpha_given_x2 * p_c_beta_given_x4)\n",
        "\n",
        "\n",
        "c_alpha_grid, c_beta_grid = np.meshgrid(c_alpha_values, c_beta_values)\n",
        "\n",
        "belief_state_grid_v2 = np.zeros_like(c_alpha_grid)\n",
        "\n",
        "for i in range(c_alpha_grid.shape[0]):\n",
        "    for j in range(c_beta_grid.shape[1]):\n",
        "        belief_state_grid_v2[i, j] = update_belief_state_alpha_v2(c_alpha_grid[i, j], c_beta_grid[i, j], u1, u2, sigma1)\n",
        "\n",
        "\n",
        "plt.figure(figsize=(5, 4.5))\n",
        "plt.imshow(belief_state_grid_v2, origin='lower', extent=[0, 10, 0, 10], aspect='auto', cmap='gray')\n",
        "plt.xlabel(r'$c_\\beta$')\n",
        "plt.ylabel(r'$c_\\alpha$')\n",
        "plt.title(r'Posterior $P(x_1|c_\\alpha, c_\\beta)$')\n",
        "plt.colorbar(label='Probability')\n",
        "plt.show()\n",
        "\n",
        "\n",
        "\n"
      ],
      "metadata": {
        "colab": {
          "base_uri": "https://localhost:8080/",
          "height": 453
        },
        "id": "KMyG-gVWpJFS",
        "outputId": "99be479d-8e52-482a-e2df-a0ebb0e8d007"
      },
      "id": "KMyG-gVWpJFS",
      "execution_count": 39,
      "outputs": [
        {
          "output_type": "display_data",
          "data": {
            "text/plain": [
              "<Figure size 500x450 with 2 Axes>"
            ],
            "image/png": "[encoded data removed]"
          },
          "metadata": {}
        }
      ]
    },
    {
      "cell_type": "markdown",
      "id": "23c38a31",
      "metadata": {
        "id": "23c38a31"
      },
      "source": [
        "INSERT ANSWER BELOW"
      ]
    },
    {
      "cell_type": "markdown",
      "source": [
        "The 3D heatmap represents the posterior probability $P\\left(x_1 \\mid c_\\alpha, c_\\beta\\right)$ of the state $x_1$, given two pieces of observational evidence $c_\\alpha$ and $c_\\beta$.\n",
        "\n",
        "\n",
        "The gradient from dark to light as we move from the bottom left to the top right suggests that higher values of both $c_\\alpha$ and $c_\\beta$ increase the probability of being in state $x_1$ (high belief). Conversely, lower observations at both steps lead to a lower probability of being in state $x_1$, indicating that the evidence is leaning away from this state. It is pretty intuitive as $x_1 > x_2$ under the same variance. Also, the anti-diagonal line returns the most ambigious result: the belief of both states are equal (0.5)."
      ],
      "metadata": {
        "id": "foZAXEOUxbr1"
      },
      "id": "foZAXEOUxbr1"
    },
    {
      "cell_type": "markdown",
      "id": "ac26df74",
      "metadata": {
        "id": "ac26df74"
      },
      "source": [
        "## 2. Solving for the optimal actions (7 pts)\n",
        "Now that we have a way to update the belief states, we can use them to determine the best course of action at each of the steps (the 'optimal policy')."
      ]
    },
    {
      "cell_type": "markdown",
      "id": "eaf6d94c",
      "metadata": {
        "id": "eaf6d94c"
      },
      "source": [
        "### 2a. When finding the optimal policy, why does it make sense to calculate the best action at the final stage $\\alpha$, and work backwards? (1 pt)"
      ]
    },
    {
      "cell_type": "markdown",
      "id": "5506e7b5",
      "metadata": {
        "id": "5506e7b5"
      },
      "source": [
        "INSERT ANSWER BELOW"
      ]
    },
    {
      "cell_type": "markdown",
      "source": [
        "This approach makes sense because in multi-stage decision problems (here, Two-stage), the optimal policy at any stage may depend on the subsequent decisions. So by starting at the end and proceeding backwards, the agent can make a decision at each stage that accounts for the future optimal policies, which leading to an overall optimal policy."
      ],
      "metadata": {
        "id": "NGyQNZfD0vU8"
      },
      "id": "NGyQNZfD0vU8"
    },
    {
      "cell_type": "markdown",
      "id": "6197ff8e",
      "metadata": {
        "id": "6197ff8e"
      },
      "source": [
        "### 2b. Write a function that will calculate the value of the best action at $\\alpha$ and reproduce Fig 9C. Explain what the plot shows. (1 pt)"
      ]
    },
    {
      "cell_type": "markdown",
      "source": [
        "$V_{\\alpha, c_\\alpha, c_\\beta}^*=\\max \\left\\{P\\left(x_1 \\mid c_\\alpha, c_\\beta\\right), P\\left(x_2 \\mid c_\\alpha, c_\\beta\\right)\\right\\}$"
      ],
      "metadata": {
        "id": "KXqGyGE54iIF"
      },
      "id": "KXqGyGE54iIF"
    },
    {
      "cell_type": "code",
      "execution_count": 40,
      "id": "2084ad75",
      "metadata": {
        "id": "2084ad75",
        "colab": {
          "base_uri": "https://localhost:8080/",
          "height": 458
        },
        "outputId": "f71c1471-099c-42c3-b342-5b3950fb4d54"
      },
      "outputs": [
        {
          "output_type": "display_data",
          "data": {
            "text/plain": [
              "<Figure size 500x450 with 2 Axes>"
            ],
            "image/png": "[encoded data removed]"
          },
          "metadata": {}
        }
      ],
      "source": [
        "#value function V*\n",
        "\n",
        "def calculate_value_function(c_alpha, c_beta, u1, u2, sigma):\n",
        "    \"\"\"\n",
        "    Calculate the value of the best action at step alpha given observations c_alpha and c_beta.\n",
        "    \"\"\"\n",
        "    p_c_alpha_given_x1 = norm(u1, sigma).pdf(c_alpha)\n",
        "    p_c_alpha_given_x2 = norm(u2, sigma).pdf(c_alpha)\n",
        "    p_c_beta_given_x3 = norm(u1, sigma).pdf(c_beta)\n",
        "    p_c_beta_given_x4 = norm(u2, sigma).pdf(c_beta)\n",
        "\n",
        "    # posterior probability of x1 given the c's at both steps\n",
        "    pos_x1 = p_c_alpha_given_x1 * p_c_beta_given_x3 / (\n",
        "        p_c_alpha_given_x1 * p_c_beta_given_x3 + p_c_alpha_given_x2 * p_c_beta_given_x4)\n",
        "\n",
        "    # posterior probability of x1 given the c's at both steps\n",
        "    pos_x2 = p_c_alpha_given_x2 * p_c_beta_given_x4 / (\n",
        "        p_c_alpha_given_x1 * p_c_beta_given_x3 + p_c_alpha_given_x2 * p_c_beta_given_x4)\n",
        "\n",
        "    # value function V: max of 2 postertiors\n",
        "    V = max(pos_x1, pos_x2)\n",
        "\n",
        "    return V\n",
        "\n",
        "\n",
        "c_alpha_grid, c_beta_grid = np.meshgrid(c_alpha_values, c_beta_values)\n",
        "value_function_grid = np.zeros_like(c_alpha_grid)\n",
        "\n",
        "\n",
        "for i in range(c_alpha_grid.shape[0]):\n",
        "    for j in range(c_beta_grid.shape[1]):\n",
        "        value_function_grid[i, j] = calculate_value_function(c_alpha_grid[i, j], c_beta_grid[i, j], u1, u2, sigma1)\n",
        "\n",
        "\n",
        "plt.figure(figsize=(5, 4.5))\n",
        "plt.imshow(value_function_grid, origin='lower', extent=[0, 10, 0, 10], aspect='auto', cmap='gray')\n",
        "plt.xlabel(r'$c_\\beta$')\n",
        "plt.ylabel(r'$c_\\alpha$')\n",
        "plt.title(r'Value $V^*_{\\alpha,c_\\alpha,c_\\beta}$')\n",
        "plt.colorbar(label='Value')\n",
        "plt.show()"
      ]
    },
    {
      "cell_type": "markdown",
      "id": "7ae95f04",
      "metadata": {
        "id": "7ae95f04"
      },
      "source": [
        "INSERT ANSWER BELOW"
      ]
    },
    {
      "cell_type": "markdown",
      "source": [
        "To calculate the optimal policy, we backward from the second state to the first. If the subject gets to $x_1$ or $x_2$, it will be able to make a choice on the basis of the observation $c_\\alpha$. Given the rewards described in the paper, it will choose $\\mathrm{L}$ if $P\\left(x_1 \\mid c_\\alpha, c_\\beta\\right)>P\\left(x_2 \\mid c_\\alpha, c_\\beta\\right)$, and $\\mathrm{R}$ otherwise. Thus, the value of being at $x_\\alpha$ is\n",
        "$$\n",
        "V_{\\alpha, c_\\alpha, c_\\beta}^*=\\max \\left\\{P\\left(x_1 \\mid c_\\alpha, c_\\beta\\right), P\\left(x_2 \\mid c_\\alpha, c_\\beta\\right)\\right\\} .\n",
        "$$\n",
        "\n",
        "From the plot, we can observe that the value is high (white) when $c_\\alpha$ and $c_\\beta$ are such that the subject can be rather sure whether $x_\\alpha=x_1$ or $x_\\alpha=x_2$-that is, when it can be sure which action to perform. If, instead, the cues are inconsistent, as shown in the anti-diagonal line, the value is closer to 0.5 (black), which is almost random guessing.\n",
        "    "
      ],
      "metadata": {
        "id": "NFCYTO6E5JjB"
      },
      "id": "NFCYTO6E5JjB"
    },
    {
      "cell_type": "markdown",
      "id": "8961eae2",
      "metadata": {
        "id": "8961eae2"
      },
      "source": [
        "### 2c. Before finding the best action at $\\beta$, we have one more step to do. We need the values of the best actions at $\\alpha$ that we just calculated and the probability of observing $c_{\\alpha}$ given $c_{\\beta}$ ($P(c_{\\alpha} | c_{\\beta})$). Why? (1 pt)"
      ]
    },
    {
      "cell_type": "markdown",
      "id": "e4f7376a",
      "metadata": {
        "id": "e4f7376a"
      },
      "source": [
        "INSERT ANSWER BELOW"
      ]
    },
    {
      "cell_type": "markdown",
      "source": [
        "Before deciding on the best action at $\\beta$, we need to incorporate the values of the best $a$ at stage $\\alpha$ because the value at $\\beta$ should reflect the expected utility (V) of future decisions. The decision at $\\beta$ is not just about the immediate reward or outcome; it must also take into account the expected value of subsequent ones -- a bit like Bellman equation\n",
        "\n",
        "The probability $P\\left(c_\\alpha \\mid c_\\beta\\right)$ is necessary because it provides the link between the $o$ at $\\alpha$ and $\\beta$. It allows us to consider the value of $a$ at $\\alpha$ by the likelihood of actually observing $c_\\alpha$ after observing $c_\\beta$. This is important because some observations at $\\alpha$ may be more likely given certain observations at $\\beta$, and the optimal policy should prioritize $a$ that lead to higher expected v based on the entire trajectories $(a, o)$"
      ],
      "metadata": {
        "id": "-Im7fHC17PfU"
      },
      "id": "-Im7fHC17PfU"
    },
    {
      "cell_type": "markdown",
      "id": "7702f664",
      "metadata": {
        "id": "7702f664"
      },
      "source": [
        "### 2d. Write a function that will calculate $P(c_{\\alpha} | c_{\\beta})$ and reproduce Fig 9D. Explain how you calculated this probability and what the plot shows. (1 pt)\n",
        "Hint: You will have to marginalise the posteriors over the possible states."
      ]
    },
    {
      "cell_type": "code",
      "execution_count": 42,
      "id": "964e09dc",
      "metadata": {
        "id": "964e09dc",
        "colab": {
          "base_uri": "https://localhost:8080/",
          "height": 453
        },
        "outputId": "827346b5-0ce0-4267-db87-f887e2743172"
      },
      "outputs": [
        {
          "output_type": "display_data",
          "data": {
            "text/plain": [
              "<Figure size 500x450 with 2 Axes>"
            ],
            "image/png": "[encoded data removed]"
          },
          "metadata": {}
        }
      ],
      "source": [
        "\n",
        "\n",
        "def calculate_conditional_probability(c_beta, u1, u2, sigma):\n",
        "    \"\"\"\n",
        "    Calculate the conditional probability P(c_alpha | c_beta).\n",
        "    \"\"\"\n",
        "\n",
        "    # marginal prob: P(c_beta)\n",
        "    marginal_x1 = norm(u1, sigma).pdf(c_beta)\n",
        "    marginal_x2 = norm(u2, sigma).pdf(c_beta)\n",
        "    marginal_c_beta = 0.5 * (marginal_x1 + marginal_x2)\n",
        "\n",
        "    # conditional prob P(c_alpha | x)\n",
        "    conditional_x1 = norm(u1, sigma).pdf(c_alpha_values) / 2\n",
        "    conditional_x2 = norm(u2, sigma).pdf(c_alpha_values) / 2\n",
        "\n",
        "    # P(c_alpha, c_beta)\n",
        "    joint_probability = conditional_x1 * marginal_x1 + conditional_x2 * marginal_x2\n",
        "\n",
        "    return joint_probability / marginal_c_beta\n",
        "\n",
        "\n",
        "\n",
        "conditional_probability_grid = np.zeros((len(c_alpha_values), len(c_beta_grid)))\n",
        "\n",
        "\n",
        "for i, c_beta in enumerate(c_beta_grid):\n",
        "    conditional_probability_grid[:, i] = calculate_conditional_probability(c_beta, u1, u2, sigma)\n",
        "\n",
        "\n",
        "plt.figure(figsize=(5, 4.5))\n",
        "plt.imshow(conditional_probability_grid, origin='lower', extent=[0, 10, 0, 10], aspect='auto', cmap='gray')\n",
        "plt.xlabel(r'$c_\\beta$')\n",
        "plt.ylabel(r'$c_\\alpha$')\n",
        "plt.title(r'$P(c_\\alpha | c_\\beta)$')\n",
        "plt.colorbar(label='Probability')\n",
        "plt.show()\n"
      ]
    },
    {
      "cell_type": "markdown",
      "id": "bc0d77a2",
      "metadata": {
        "id": "bc0d77a2"
      },
      "source": [
        "INSERT ANSWER BELOW"
      ]
    },
    {
      "cell_type": "markdown",
      "source": [
        "\n",
        "\n",
        "The plot shows the conditional probability distribution $P(c_\\alpha | c_\\beta)$. It indicates the likelihood of observing a particular $c_\\alpha$ given that $c_\\beta$ has been observed. The plot is symmetrical about the line where the means of the two states are equal (symmetry of the Gaussian). For $c_\\beta=5$, we can see that the cue of the likehood of $c_alpha$ is the most ambigious: less bright in the middel vertical line. And for $c_\\beta$ larger than 6 or less than 4, we can observe that the brightest lines are horizontal; otherwise (4~6), it grows in a rate of one.\n"
      ],
      "metadata": {
        "id": "ZitHGCpH9pUA"
      },
      "id": "ZitHGCpH9pUA"
    },
    {
      "cell_type": "markdown",
      "id": "fb2fa130",
      "metadata": {
        "id": "fb2fa130"
      },
      "source": [
        "### 2e. We are now ready to find the best action at $\\beta$. Write a function that calculates the values associated with each of the actions and reproduce Fig 9E. What does the plot tell you about what the best action is at $\\beta$? (1 pt)\n",
        "Hint: For action C, you will have to numerically integrate over possible observations ${c_{\\alpha}}$ using the step size ($dc_{\\alpha}$) you defined on your Gaussian observation distribution."
      ]
    },
    {
      "cell_type": "markdown",
      "source": [
        "Averaging over this distribution, we get the mean value\n",
        "$$\n",
        "\\begin{aligned}\n",
        "V_{\\alpha, c_\\beta}^*= & \\mathbb{E}_{p\\left(c_\\alpha \\mid c_\\beta\\right)}\\left[V_{\\alpha, c_\\alpha, c_\\beta}^*\\right] \\\\\n",
        "= & P\\left(x_3 \\mid c_\\beta\\right) \\int_{c_\\alpha} V_{\\alpha, c_\\alpha, c_\\beta}^* p\\left(c_\\alpha \\mid x_1\\right) d c_\\alpha \\\\\n",
        "& +P\\left(x_4 \\mid c_\\beta\\right) \\int_{c_\\alpha} V_{\\alpha, c_\\alpha, c_\\beta}^* p\\left(c_\\alpha \\mid x_2\\right) d c_\\alpha,\n",
        "\\end{aligned}\n",
        "$$\n",
        "\n",
        "Then, $Q_{\\beta, c_\\beta}^*(\\mathrm{C})=r_{c_\\beta}(\\mathrm{C})+V_{\\alpha, c_\\beta}^*=-0.1+V_{\\alpha, c_\\beta}^*$."
      ],
      "metadata": {
        "id": "Yxm642rXB9O-"
      },
      "id": "Yxm642rXB9O-"
    },
    {
      "cell_type": "code",
      "source": [],
      "metadata": {
        "id": "ePFiDkEULBB1"
      },
      "id": "ePFiDkEULBB1",
      "execution_count": null,
      "outputs": []
    },
    {
      "cell_type": "markdown",
      "id": "aaab5dc5",
      "metadata": {
        "id": "aaab5dc5"
      },
      "source": [
        "INSERT ANSWER BELOW"
      ]
    },
    {
      "cell_type": "markdown",
      "id": "ea322104",
      "metadata": {
        "id": "ea322104"
      },
      "source": [
        "### 2f. What will reduce (or increase) the range of observations at $\\beta$ where it is best to choose to wait for another observation (choosing C)? Can you tweak a parameter to do this and produce a plot similar to Fig 9E to show this? (2 pts)\n",
        "Hint: You will have to re-run the steps with this changed parameter."
      ]
    },
    {
      "cell_type": "code",
      "execution_count": null,
      "id": "54a932a0",
      "metadata": {
        "id": "54a932a0"
      },
      "outputs": [],
      "source": [
        "# INSERT CODE BELOW"
      ]
    },
    {
      "cell_type": "markdown",
      "id": "84ff6fd6",
      "metadata": {
        "id": "84ff6fd6"
      },
      "source": [
        "INSERT ANSWER BELOW"
      ]
    },
    {
      "cell_type": "code",
      "execution_count": null,
      "id": "e7565312",
      "metadata": {
        "id": "e7565312"
      },
      "outputs": [],
      "source": []
    }
  ],
  "metadata": {
    "kernelspec": {
      "display_name": "Python 3 (ipykernel)",
      "language": "python",
      "name": "python3"
    },
    "language_info": {
      "codemirror_mode": {
        "name": "ipython",
        "version": 3
      },
      "file_extension": ".py",
      "mimetype": "text/x-python",
      "name": "python",
      "nbconvert_exporter": "python",
      "pygments_lexer": "ipython3",
      "version": "3.11.5"
    },
    "colab": {
      "provenance": [],
      "include_colab_link": true
    }
  },
  "nbformat": 4,
  "nbformat_minor": 5
}